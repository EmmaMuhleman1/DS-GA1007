{
 "cells": [
  {
   "cell_type": "markdown",
   "metadata": {},
   "source": [
    "--- \n",
    "\n",
    "### 2020 FALL\n",
    "### DSGA1007\n",
    "\n",
    "--- \n",
    "\n",
    "### HW02\n",
    "### Due Date: 2020-10-08, 5PM"
   ]
  },
  {
   "cell_type": "markdown",
   "metadata": {},
   "source": [
    "Firstname: Emma\n",
    "\n",
    "Lastname: Muhleman\n",
    "\n",
    "E-mail: emm10005@nyu.edu\n",
    "\n",
    "\n",
    "--- \n",
    "\n",
    "Enter your solutions below,  and submit this notebook"
   ]
  },
  {
   "cell_type": "markdown",
   "metadata": {},
   "source": [
    "### Problem 01 (10 points):\n",
    "\n",
    "1. 1 (5 points) Write a function that iteratively calculates factorial $n!$ of an integer $n \\geq 0$, where $n!=1 \\cdot 2 \\cdot \\dots \\cdot n$. Evaluate the function for $n=10$.\n",
    "\n",
    "\n",
    "1. 2 (5 points) Write a function that recursively calculates factorial $n!$ of an integer $n \\geq 0$, where $n!=1 \\cdot 2 \\cdot \\dots \\cdot n$. Evaluate the function for $n=10$.\n"
   ]
  },
  {
   "cell_type": "code",
   "execution_count": 2,
   "metadata": {},
   "outputs": [
    {
     "data": {
      "text/plain": [
       "3628800"
      ]
     },
     "execution_count": 2,
     "metadata": {},
     "output_type": "execute_result"
    }
   ],
   "source": [
    "#1.1 \n",
    "\n",
    "# Writes a function f_iter(n) that iteratively calculates the factorial n!\n",
    "# Shows the output of the function where n = 10 of 10!\n",
    "\n",
    "def f_iter(n):   \n",
    "    if n <= 1:\n",
    "        return 1\n",
    "    else:\n",
    "        p = 1\n",
    "        for i in range(1, n + 1):\n",
    "            p *= i        \n",
    "        return p\n",
    "f_iter(10)"
   ]
  },
  {
   "cell_type": "code",
   "execution_count": 3,
   "metadata": {},
   "outputs": [
    {
     "data": {
      "text/plain": [
       "3628800"
      ]
     },
     "execution_count": 3,
     "metadata": {},
     "output_type": "execute_result"
    }
   ],
   "source": [
    "# 1.2 \n",
    "\n",
    "# Writes a function f(n) that recursively calculates factorial n! for any n: {0, 1, ...}\n",
    "# compute f(10) to return the factorial of 10, or 10!\n",
    "\n",
    "def f(n):\n",
    "    p = 1\n",
    "    if n <= 1:\n",
    "        return 1\n",
    "    else:\n",
    "        return n * f(n - 1)\n",
    "f(10)"
   ]
  },
  {
   "cell_type": "markdown",
   "metadata": {},
   "source": [
    "### Problem 02 (50 points)\n",
    "\n",
    "Let $M$ be a real quadratic matrix, that is, the number of rows and columns are the same. \n",
    "\n",
    "2.1 (20 points) Write a function that *recursively* calculates the power of matrix to the exponent $k$ (by the definition of the matrix multiplication). Here $k \\geq 0$ is an integer.\n",
    "\n",
    "```def matrix_mult_rec(M, k):\n",
    "    return M_to_power\n",
    "```    \n",
    "    \n",
    "\n",
    "2.2 (10 points) What is the number of calls, that is, how many times the function has been called for $k=100$?\n",
    "\n",
    "2.3 (15 points) Given the same question as one in 2.2, what is the answer for a general input $k$?\n",
    "\n",
    "2.4. (5 points) What is the answer for `M=np.ones((5, 5))` and `k=5`?"
   ]
  },
  {
   "cell_type": "code",
   "execution_count": 4,
   "metadata": {},
   "outputs": [],
   "source": [
    "import numpy as np"
   ]
  },
  {
   "cell_type": "code",
   "execution_count": 5,
   "metadata": {},
   "outputs": [],
   "source": [
    "M = np.array([[1, 2], [4, 5]])"
   ]
  },
  {
   "cell_type": "code",
   "execution_count": 6,
   "metadata": {},
   "outputs": [
    {
     "data": {
      "text/plain": [
       "array([[ 9., 12.],\n",
       "       [24., 33.]])"
      ]
     },
     "execution_count": 6,
     "metadata": {},
     "output_type": "execute_result"
    }
   ],
   "source": [
    "# 2.1\n",
    "\n",
    "def matrix_mult_rec(M, k):\n",
    "    if k == 0:\n",
    "        return np.identity(len(M))\n",
    "    else:\n",
    "        return M @ matrix_mult_rec(M,k-1)   \n",
    "\n",
    "matrix_mult_rec(M, 2)"
   ]
  },
  {
   "cell_type": "code",
   "execution_count": 7,
   "metadata": {},
   "outputs": [
    {
     "name": "stdout",
     "output_type": "stream",
     "text": [
      "The function has been called for 101 times when k=100\n"
     ]
    }
   ],
   "source": [
    "# 2.2 \n",
    "# Add a global to record the call\n",
    "\n",
    "count = 0\n",
    "def matrix_mult_rec(M, k):\n",
    "    global count\n",
    "    count += 1\n",
    "    import numpy as np\n",
    "    if k == 0:\n",
    "        return np.identity(len(M))\n",
    "    else:\n",
    "        return M @ matrix_mult_rec(M,k-1) \n",
    "    \n",
    "matrix_mult_rec(M, k=100)\n",
    "print('The function has been called for', count, 'times when k=%d' %100)"
   ]
  },
  {
   "cell_type": "code",
   "execution_count": 8,
   "metadata": {},
   "outputs": [],
   "source": [
    "# 2.3\n",
    "# The function has been called for k+1 times for a general k"
   ]
  },
  {
   "cell_type": "code",
   "execution_count": 9,
   "metadata": {},
   "outputs": [
    {
     "data": {
      "text/plain": [
       "array([[625., 625., 625., 625., 625.],\n",
       "       [625., 625., 625., 625., 625.],\n",
       "       [625., 625., 625., 625., 625.],\n",
       "       [625., 625., 625., 625., 625.],\n",
       "       [625., 625., 625., 625., 625.]])"
      ]
     },
     "execution_count": 9,
     "metadata": {},
     "output_type": "execute_result"
    }
   ],
   "source": [
    "# 2.4\n",
    "M = np.ones((5, 5))\n",
    "k = 5\n",
    "\n",
    "matrix_mult_rec(M, k)"
   ]
  },
  {
   "cell_type": "markdown",
   "metadata": {},
   "source": [
    "### Problem 03 (20 points):\n",
    "\n",
    "3.1 (5 points) Write a function that performs a bubble sort. \n",
    "\n",
    "3.2 (5 points) Write a function that performs a merge sort. \n",
    "\n",
    "3.3 (5 points) Generate a random numpy array $a$, of length $n=10000$, where each component is a random number independently and uniformly generated from the interval $[0, 1]$. \n",
    "\n",
    "3.4 (5 points) Estimate the run-times and print the difference when applied the functions from 3.1 and 3.2 on the array $a$. To estimate the run-times you can use the following part: "
   ]
  },
  {
   "cell_type": "code",
   "execution_count": 10,
   "metadata": {},
   "outputs": [
    {
     "name": "stdout",
     "output_type": "stream",
     "text": [
      "[3, 4, 5, 9, 6, 7, 8, 4, 2, 2, 2]\n",
      "[2, 2, 2, 3, 4, 4, 5, 6, 7, 8, 9]\n"
     ]
    }
   ],
   "source": [
    "# 3.1 bubble sort\n",
    "def bubble_sort(arr):\n",
    "    for i in range(len(arr)-1): \n",
    "        for j in range(i+1,len(arr)):\n",
    "            if arr[i]>arr[j]:\n",
    "                arr[i],arr[j] = arr[j],arr[i]\n",
    "                \n",
    "arr = [3,4,5,9,6,7,8,4,2,2,2]\n",
    "print(arr)\n",
    "bubble_sort(arr)\n",
    "print(arr)            "
   ]
  },
  {
   "cell_type": "code",
   "execution_count": 11,
   "metadata": {},
   "outputs": [
    {
     "data": {
      "text/plain": [
       "[1, 2, 2, 3, 4, 5, 6, 8, 9]"
      ]
     },
     "execution_count": 11,
     "metadata": {},
     "output_type": "execute_result"
    }
   ],
   "source": [
    "# 3.2 merge sort\n",
    "def merge_two_list(arr_left,arr_right):\n",
    "    \n",
    "    #init values\n",
    "    merged_list=[]\n",
    "    num_left , num_right = 0,0\n",
    "    \n",
    "    while num_left < len(arr_left) and num_right < len(arr_right):\n",
    "        \n",
    "        if arr_left[num_left] <= arr_right[num_right]:\n",
    "            merged_list.append(arr_left[num_left])\n",
    "            num_left += 1\n",
    "            \n",
    "        else: \n",
    "            merged_list.append(arr_right[num_right])\n",
    "            num_right += 1\n",
    "            \n",
    "    if num_left == len(arr_left):\n",
    "        merged_list += arr_right[num_right:]\n",
    "        \n",
    "    else: merged_list += arr_left[num_left:]\n",
    "        \n",
    "    return merged_list\n",
    "\n",
    "def merge_sort(arr):\n",
    "    \n",
    "    #define the end of recursive\n",
    "    if len(arr)<=1:\n",
    "        return arr\n",
    "    \n",
    "    middle = len(arr)//2\n",
    "    arr_left = arr[:middle]\n",
    "    arr_right = arr[middle:]\n",
    "    \n",
    "    return list(merge_two_list(merge_sort(arr_left), merge_sort(arr_right)))\n",
    "\n",
    "\n",
    "arr=[3,2,1,5,6,8,9,4,2]\n",
    "merge_sort(arr)"
   ]
  },
  {
   "cell_type": "code",
   "execution_count": 12,
   "metadata": {},
   "outputs": [
    {
     "data": {
      "text/plain": [
       "array([0.61966202, 0.5529275 , 0.2495616 , ..., 0.80424832, 0.14474722,\n",
       "       0.31733479])"
      ]
     },
     "execution_count": 12,
     "metadata": {},
     "output_type": "execute_result"
    }
   ],
   "source": [
    "# 3.3\n",
    "n = 10000\n",
    "a = np.random.rand(n)\n",
    "a"
   ]
  },
  {
   "cell_type": "code",
   "execution_count": 13,
   "metadata": {},
   "outputs": [
    {
     "name": "stdout",
     "output_type": "stream",
     "text": [
      "The run-time for bubble sort is: 0:00:21.246368 \n",
      "The run-time for merge sort is: 0:00:00.036785\n"
     ]
    }
   ],
   "source": [
    "# 3.4\n",
    "import datetime\n",
    "\n",
    "start_time_bubble =  datetime.datetime.now()\n",
    "bubble_sort(a)\n",
    "end_time_bubble =  datetime.datetime.now()\n",
    "run_time_bubble = end_time_bubble - start_time_bubble\n",
    "\n",
    "start_time_merge =  datetime.datetime.now()\n",
    "merge_sort(a)\n",
    "end_time_merge =  datetime.datetime.now()\n",
    "run_time_merge = end_time_merge - start_time_merge\n",
    "print(\"The run-time for bubble sort is:\",run_time_bubble,\"\\nThe run-time for merge sort is:\",run_time_merge)"
   ]
  },
  {
   "cell_type": "markdown",
   "metadata": {},
   "source": [
    "\n",
    "### Problem 04 (20 points)\n"
   ]
  },
  {
   "cell_type": "markdown",
   "metadata": {},
   "source": [
    "The provided file 'nba2020.csv' contains the schedules and information of the NBA games for 2020. Using the unix commands, covered in Lecture04, write scripts which will display:\n",
    "    \n",
    "4.1 (5 points) a unique list of NBA teams, provided in the file;\n",
    "\n",
    "4.2 (5 points) the number of those NBA teams;\n",
    "\n",
    "4.3 (5 points) a unique list of the times -- provided in the file -- when the NBA matches were played;\n",
    "\n",
    "4.4 (5 points) the number of these unique times."
   ]
  },
  {
   "cell_type": "markdown",
   "metadata": {},
   "source": [
    "**Important:** to skip the header of file you can use: \n",
    "    \n",
    "`!tail -n+2 nba2020.csv`\n",
    "\n",
    "\n",
    "Since,\n",
    "\n",
    "``-n, --lines=[+]NUM       output the last NUM lines, instead of the last 10;\n",
    "                             or use -n +NUM to output starting with line NUM``\n",
    "        "
   ]
  },
  {
   "cell_type": "code",
   "execution_count": 14,
   "metadata": {},
   "outputs": [
    {
     "data": {
      "text/plain": [
       "'/Users/emmamuhleman/Dropbox/notebooks/nb1007/__HOMEWORKS__/hwk2'"
      ]
     },
     "execution_count": 14,
     "metadata": {},
     "output_type": "execute_result"
    }
   ],
   "source": [
    "#print a working directory i.e. print the current path \n",
    "\n",
    "%pwd"
   ]
  },
  {
   "cell_type": "code",
   "execution_count": 15,
   "metadata": {},
   "outputs": [
    {
     "name": "stdout",
     "output_type": "stream",
     "text": [
      "Atlanta Hawks\r\n",
      "Boston Celtics\r\n",
      "Brooklyn Nets\r\n",
      "Charlotte Hornets\r\n",
      "Chicago Bulls\r\n",
      "Cleveland Cavaliers\r\n",
      "Dallas Mavericks\r\n",
      "Denver Nuggets\r\n",
      "Detroit Pistons\r\n",
      "Golden State Warriors\r\n",
      "Houston Rockets\r\n",
      "Indiana Pacers\r\n",
      "Los Angeles Clippers\r\n",
      "Los Angeles Lakers\r\n",
      "Memphis Grizzlies\r\n",
      "Miami Heat\r\n",
      "Milwaukee Bucks\r\n",
      "Minnesota Timberwolves\r\n",
      "New Orleans Pelicans\r\n",
      "New York Knicks\r\n",
      "Oklahoma City Thunder\r\n",
      "Orlando Magic\r\n",
      "Philadelphia 76ers\r\n",
      "Phoenix Suns\r\n",
      "Portland Trail Blazers\r\n",
      "Sacramento Kings\r\n",
      "San Antonio Spurs\r\n",
      "Toronto Raptors\r\n",
      "Utah Jazz\r\n",
      "Washington Wizards\r\n"
     ]
    }
   ],
   "source": [
    "# 4.1 a unique list of NBA teams, provided in the file\n",
    "\n",
    "!tail -n+2 nba2020.csv | cut -d \",\" -f 3 | sort | uniq\n"
   ]
  },
  {
   "cell_type": "code",
   "execution_count": 16,
   "metadata": {},
   "outputs": [
    {
     "name": "stdout",
     "output_type": "stream",
     "text": [
      "      30\r\n"
     ]
    }
   ],
   "source": [
    "# 4.2  \n",
    "\n",
    "!tail -n+2 nba2020.csv | cut -d \",\" -f 3 | sort | uniq | wc -l"
   ]
  },
  {
   "cell_type": "code",
   "execution_count": 17,
   "metadata": {},
   "outputs": [
    {
     "name": "stdout",
     "output_type": "stream",
     "text": [
      "\r\n",
      "10:00p\r\n",
      "10:30p\r\n",
      "3:30p\r\n",
      "5:00p\r\n",
      "6:00p\r\n",
      "7:00p\r\n",
      "7:30p\r\n",
      "8:00p\r\n",
      "8:30p\r\n",
      "9:00p\r\n",
      "9:30p\r\n"
     ]
    }
   ],
   "source": [
    "# 4.3\n",
    "\n",
    "!tail -n+2 nba2020.csv | cut -d \",\" -f 2 | sort | uniq"
   ]
  },
  {
   "cell_type": "code",
   "execution_count": 18,
   "metadata": {},
   "outputs": [
    {
     "name": "stdout",
     "output_type": "stream",
     "text": [
      "      12\r\n"
     ]
    }
   ],
   "source": [
    "# 4.4\n",
    "\n",
    "!tail -n+2 nba2020.csv | cut -d \",\" -f 2 | sort | uniq | wc -l"
   ]
  }
 ],
 "metadata": {
  "kernelspec": {
   "display_name": "Python 3",
   "language": "python",
   "name": "python3"
  },
  "language_info": {
   "codemirror_mode": {
    "name": "ipython",
    "version": 3
   },
   "file_extension": ".py",
   "mimetype": "text/x-python",
   "name": "python",
   "nbconvert_exporter": "python",
   "pygments_lexer": "ipython3",
   "version": "3.8.3"
  }
 },
 "nbformat": 4,
 "nbformat_minor": 2
}
